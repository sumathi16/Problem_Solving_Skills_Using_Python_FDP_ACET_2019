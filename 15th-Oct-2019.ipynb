{
 "cells": [
  {
   "cell_type": "markdown",
   "metadata": {},
   "source": [
    "## Intro to jupyter notebook\n",
    "###### How to run markdown or code cell?"
   ]
  },
  {
   "cell_type": "markdown",
   "metadata": {},
   "source": [
    "**ctrl +Enter** ---> Will run the cell and cursor will be in same cell<br>\n",
    "*Alt + Enter* -->  Will run the cell and create an empty cell below<br>\n",
    "***Shift + Enter*** --> Run the cell and cursor will be in the next cell.<br> \n",
    "                if next cell is not there it will create a cell"
   ]
  },
  {
   "cell_type": "markdown",
   "metadata": {},
   "source": [
    "new  markdown cell\n",
    ">This is a sepearte paragraph\n"
   ]
  },
  {
   "cell_type": "markdown",
   "metadata": {},
   "source": [
    "Cell type conversion\n",
    "- from markdown to code 'Esc y'\n",
    "- from code to markdown 'Esc m'"
   ]
  },
  {
   "cell_type": "markdown",
   "metadata": {},
   "source": [
    "**other topics**\n",
    "1. ordered list\n",
    "2. insert an image\n",
    "3. insert hyperlink"
   ]
  },
  {
   "cell_type": "markdown",
   "metadata": {},
   "source": [
    "#### Python\n",
    "![](logo.jpg)"
   ]
  },
  {
   "cell_type": "markdown",
   "metadata": {},
   "source": [
    "[markdown cheat sheet](https://www.markdownguide.org/cheat-sheet/)"
   ]
  },
  {
   "cell_type": "markdown",
   "metadata": {},
   "source": [
    "#### Python Basic Mathematical Operators"
   ]
  },
  {
   "cell_type": "code",
   "execution_count": 3,
   "metadata": {},
   "outputs": [
    {
     "name": "stdout",
     "output_type": "stream",
     "text": [
      "Python Basic Mathematical Operators\n",
      "36\n",
      "37\n"
     ]
    }
   ],
   "source": [
    "print('Python Basic Mathematical Operators')\n",
    "print(34 + 2)\n",
    "print(44 - 7)"
   ]
  },
  {
   "cell_type": "code",
   "execution_count": 4,
   "metadata": {},
   "outputs": [
    {
     "name": "stdout",
     "output_type": "stream",
     "text": [
      "38.5\n",
      "38\n",
      "2\n"
     ]
    }
   ],
   "source": [
    "print(77/2)\n",
    "print(77//2)\n",
    "print(77 % 3)"
   ]
  },
  {
   "cell_type": "code",
   "execution_count": 5,
   "metadata": {},
   "outputs": [
    {
     "name": "stdout",
     "output_type": "stream",
     "text": [
      "77 4\n"
     ]
    }
   ],
   "source": [
    "a = 77\n",
    "b = 4\n",
    "print(a,b)"
   ]
  },
  {
   "cell_type": "code",
   "execution_count": 6,
   "metadata": {},
   "outputs": [
    {
     "name": "stdout",
     "output_type": "stream",
     "text": [
      "81\n",
      "19.25\n",
      "19\n",
      "1\n"
     ]
    }
   ],
   "source": [
    "print(a+b)\n",
    "print(a/b)\n",
    "print(a//b)\n",
    "print(a%b)"
   ]
  },
  {
   "cell_type": "code",
   "execution_count": 7,
   "metadata": {},
   "outputs": [
    {
     "data": {
      "text/plain": [
       "'hellohellohellohello'"
      ]
     },
     "execution_count": 7,
     "metadata": {},
     "output_type": "execute_result"
    }
   ],
   "source": [
    "s =\"hello\"\n",
    "s * b"
   ]
  },
  {
   "cell_type": "code",
   "execution_count": 8,
   "metadata": {},
   "outputs": [
    {
     "name": "stdout",
     "output_type": "stream",
     "text": [
      "helloworld\n",
      "hello world\n"
     ]
    }
   ],
   "source": [
    "s1 = \"world\"\n",
    "print(s+s1)\n",
    "print(s +\" \" +s1)"
   ]
  },
  {
   "cell_type": "code",
   "execution_count": 9,
   "metadata": {},
   "outputs": [
    {
     "name": "stdout",
     "output_type": "stream",
     "text": [
      "77 4 hello world\n"
     ]
    }
   ],
   "source": [
    "print(a,b,s,s1)"
   ]
  },
  {
   "cell_type": "code",
   "execution_count": 10,
   "metadata": {},
   "outputs": [
    {
     "name": "stdout",
     "output_type": "stream",
     "text": [
      "<class 'int'> <class 'int'> <class 'str'> <class 'str'>\n"
     ]
    }
   ],
   "source": [
    "print(type(a),type(b),type(s),type(s1))"
   ]
  },
  {
   "cell_type": "code",
   "execution_count": 11,
   "metadata": {},
   "outputs": [
    {
     "name": "stdout",
     "output_type": "stream",
     "text": [
      "python <class 'str'>\n"
     ]
    }
   ],
   "source": [
    "a = \"python\"\n",
    "print(a,type(a))"
   ]
  },
  {
   "cell_type": "code",
   "execution_count": 12,
   "metadata": {},
   "outputs": [
    {
     "name": "stdout",
     "output_type": "stream",
     "text": [
      "4 <class 'int'>\n",
      "True <class 'bool'>\n"
     ]
    }
   ],
   "source": [
    "print(b,type(b))\n",
    "b = True\n",
    "print(b,type(b))"
   ]
  },
  {
   "cell_type": "code",
   "execution_count": 13,
   "metadata": {},
   "outputs": [
    {
     "name": "stdout",
     "output_type": "stream",
     "text": [
      "27 <class 'str'>\n"
     ]
    }
   ],
   "source": [
    "i = \"27\"\n",
    "print(i,type(i))"
   ]
  },
  {
   "cell_type": "code",
   "execution_count": 14,
   "metadata": {},
   "outputs": [
    {
     "data": {
      "text/plain": [
       "('34', 78, 56.5)"
      ]
     },
     "execution_count": 14,
     "metadata": {},
     "output_type": "execute_result"
    }
   ],
   "source": [
    "str(34),int(\"78\"),float('56.5')"
   ]
  },
  {
   "cell_type": "code",
   "execution_count": 15,
   "metadata": {},
   "outputs": [
    {
     "name": "stdout",
     "output_type": "stream",
     "text": [
      "27 <class 'int'>\n"
     ]
    }
   ],
   "source": [
    "i= int(i)\n",
    "print(i,type(i))"
   ]
  },
  {
   "cell_type": "code",
   "execution_count": 16,
   "metadata": {},
   "outputs": [
    {
     "ename": "ValueError",
     "evalue": "invalid literal for int() with base 10: 'hello'",
     "output_type": "error",
     "traceback": [
      "\u001b[1;31m---------------------------------------------------------------------------\u001b[0m",
      "\u001b[1;31mValueError\u001b[0m                                Traceback (most recent call last)",
      "\u001b[1;32m<ipython-input-16-a6f1987f81d0>\u001b[0m in \u001b[0;36m<module>\u001b[1;34m()\u001b[0m\n\u001b[1;32m----> 1\u001b[1;33m \u001b[0mint\u001b[0m\u001b[1;33m(\u001b[0m\u001b[1;34m\"hello\"\u001b[0m\u001b[1;33m)\u001b[0m\u001b[1;33m\u001b[0m\u001b[0m\n\u001b[0m",
      "\u001b[1;31mValueError\u001b[0m: invalid literal for int() with base 10: 'hello'"
     ]
    }
   ],
   "source": [
    "int(\"hello\")"
   ]
  },
  {
   "cell_type": "code",
   "execution_count": 17,
   "metadata": {},
   "outputs": [
    {
     "data": {
      "text/plain": [
       "568.78"
      ]
     },
     "execution_count": 17,
     "metadata": {},
     "output_type": "execute_result"
    }
   ],
   "source": [
    "float(\"568.78\")"
   ]
  },
  {
   "cell_type": "code",
   "execution_count": 18,
   "metadata": {},
   "outputs": [
    {
     "name": "stdout",
     "output_type": "stream",
     "text": [
      "2\n",
      "0\n",
      "1.0\n",
      "0\n"
     ]
    }
   ],
   "source": [
    "b1 = True\n",
    "b2 = True\n",
    "print(b1+b2)\n",
    "print(b1-b2)\n",
    "print(b1/b2)\n",
    "print(b1%b2)"
   ]
  },
  {
   "cell_type": "code",
   "execution_count": 19,
   "metadata": {},
   "outputs": [
    {
     "data": {
      "text/plain": [
       "58"
      ]
     },
     "execution_count": 19,
     "metadata": {},
     "output_type": "execute_result"
    }
   ],
   "source": [
    "True + 57"
   ]
  },
  {
   "cell_type": "code",
   "execution_count": 20,
   "metadata": {},
   "outputs": [
    {
     "name": "stdout",
     "output_type": "stream",
     "text": [
      "hello\n",
      "everyone\n",
      "thirderror\n"
     ]
    }
   ],
   "source": [
    "print(\"hello\")\n",
    "print(\"everyone\")\n",
    "print(\"thirderror\")"
   ]
  },
  {
   "cell_type": "code",
   "execution_count": 21,
   "metadata": {},
   "outputs": [
    {
     "data": {
      "text/plain": [
       "125"
      ]
     },
     "execution_count": 21,
     "metadata": {},
     "output_type": "execute_result"
    }
   ],
   "source": [
    "5 ** 3"
   ]
  },
  {
   "cell_type": "code",
   "execution_count": 22,
   "metadata": {},
   "outputs": [
    {
     "data": {
      "text/plain": [
       "6"
      ]
     },
     "execution_count": 22,
     "metadata": {},
     "output_type": "execute_result"
    }
   ],
   "source": [
    "5 ^ 3 # 101^011=110 bitwise xor operation"
   ]
  },
  {
   "cell_type": "code",
   "execution_count": 23,
   "metadata": {},
   "outputs": [
    {
     "name": "stdout",
     "output_type": "stream",
     "text": [
      "single,double,triple single quote,triple double quote\n",
      "<class 'str'> <class 'str'> <class 'str'> <class 'str'>\n"
     ]
    }
   ],
   "source": [
    "s3 = 'single'\n",
    "s4 = \"double\"\n",
    "s5 = '''triple single quote'''\n",
    "s6 = \"\"\"triple double quote\"\"\"\n",
    "print(s3,s4,s5,s6,sep =',')\n",
    "print(type(s3),type(s4),type(s5),type(s6))"
   ]
  },
  {
   "cell_type": "code",
   "execution_count": 24,
   "metadata": {},
   "outputs": [
    {
     "name": "stdout",
     "output_type": "stream",
     "text": [
      "I don't want to learn python\n",
      "I don't want to learn python\n"
     ]
    }
   ],
   "source": [
    "s7 = 'I don\\'t want to learn python'\n",
    "s8 = \"I don't want to learn python\"\n",
    "print(s7)\n",
    "print(s8)"
   ]
  },
  {
   "cell_type": "code",
   "execution_count": 25,
   "metadata": {},
   "outputs": [
    {
     "name": "stdout",
     "output_type": "stream",
     "text": [
      "\"python\" is a popular language\n",
      "\"python\" is a popular language\n"
     ]
    }
   ],
   "source": [
    "s9 = '\"python\" is a popular language'\n",
    "s10 =\"\\\"python\\\" is a popular language\"\n",
    "print(s9)\n",
    "print(s10)"
   ]
  },
  {
   "cell_type": "code",
   "execution_count": 26,
   "metadata": {},
   "outputs": [
    {
     "name": "stdout",
     "output_type": "stream",
     "text": [
      "python is popular\n",
      "so we are learning python\n"
     ]
    },
    {
     "data": {
      "text/plain": [
       "'python is popular\\nso we are learning python'"
      ]
     },
     "execution_count": 26,
     "metadata": {},
     "output_type": "execute_result"
    }
   ],
   "source": [
    "s11 ='''python is popular\n",
    "so we are learning python'''\n",
    "print(s11)\n",
    "s11"
   ]
  },
  {
   "cell_type": "code",
   "execution_count": 34,
   "metadata": {},
   "outputs": [
    {
     "name": "stdout",
     "output_type": "stream",
     "text": [
      "Enter a number78\n",
      "78 <class 'str'>\n",
      "78 <class 'int'>\n"
     ]
    }
   ],
   "source": [
    "ivalue = input(\"Enter a number\")\n",
    "print(ivalue,type(ivalue))\n",
    "ivalue = int(ivalue)\n",
    "print(ivalue,type(ivalue))"
   ]
  },
  {
   "cell_type": "code",
   "execution_count": 35,
   "metadata": {},
   "outputs": [
    {
     "name": "stdout",
     "output_type": "stream",
     "text": [
      "Enter a number78\n",
      "78 <class 'int'>\n"
     ]
    }
   ],
   "source": [
    "ivalue = int(input(\"Enter a number\"))\n",
    "print(ivalue,type(ivalue))"
   ]
  },
  {
   "cell_type": "code",
   "execution_count": 31,
   "metadata": {},
   "outputs": [
    {
     "name": "stdout",
     "output_type": "stream",
     "text": [
      "Enter a stringpython\n",
      "python <class 'str'>\n"
     ]
    }
   ],
   "source": [
    "svalue = input(\"Enter a string\")\n",
    "print(svalue,type(svalue))"
   ]
  },
  {
   "cell_type": "code",
   "execution_count": 36,
   "metadata": {},
   "outputs": [
    {
     "name": "stdout",
     "output_type": "stream",
     "text": [
      "Enter a Floating point number78.89\n",
      "78.89 <class 'float'>\n"
     ]
    }
   ],
   "source": [
    "fvalue = float(input(\"Enter a Floating point number\"))\n",
    "print(fvalue,type(fvalue))"
   ]
  },
  {
   "cell_type": "markdown",
   "metadata": {},
   "source": [
    "Read the first name,last name of person and print them in reverse order<br>\n",
    "Example <br>\n",
    "First Name : Suman<br>\n",
    "Last Name : Roy<br>\n",
    "O/p : Roy Suman<br>"
   ]
  },
  {
   "cell_type": "code",
   "execution_count": 38,
   "metadata": {},
   "outputs": [
    {
     "name": "stdout",
     "output_type": "stream",
     "text": [
      "Enter First Name: Suman\n",
      "Enter last Name: Roy\n",
      "Roy Suman\n",
      "Roy Suman\n"
     ]
    }
   ],
   "source": [
    "firstName = input(\"Enter First Name: \")\n",
    "lastName = input('Enter last Name: ')\n",
    "print(lastName,firstName)\n",
    "print(lastName+' '+firstName)"
   ]
  },
  {
   "cell_type": "markdown",
   "metadata": {},
   "source": [
    "Read a name and a number n. Repeat the name n times.<br>\n",
    "Example<br>\n",
    "name : Python<br>\n",
    "n : 3<br>\n",
    "o/p :Python Python Python<br>"
   ]
  },
  {
   "cell_type": "code",
   "execution_count": 40,
   "metadata": {},
   "outputs": [
    {
     "name": "stdout",
     "output_type": "stream",
     "text": [
      "Enter a namePython\n",
      "enter number3\n",
      "Python Python Python \n"
     ]
    }
   ],
   "source": [
    "name = input(\"Enter a name\")\n",
    "n = int(input(\"enter number\"))\n",
    "print((name+' ')*n)"
   ]
  },
  {
   "cell_type": "code",
   "execution_count": null,
   "metadata": {},
   "outputs": [],
   "source": []
  }
 ],
 "metadata": {
  "kernelspec": {
   "display_name": "Python 3",
   "language": "python",
   "name": "python3"
  },
  "language_info": {
   "codemirror_mode": {
    "name": "ipython",
    "version": 3
   },
   "file_extension": ".py",
   "mimetype": "text/x-python",
   "name": "python",
   "nbconvert_exporter": "python",
   "pygments_lexer": "ipython3",
   "version": "3.7.0"
  }
 },
 "nbformat": 4,
 "nbformat_minor": 2
}
